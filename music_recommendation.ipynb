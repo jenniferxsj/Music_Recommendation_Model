{
 "cells": [
  {
   "cell_type": "code",
   "execution_count": 1,
   "metadata": {},
   "outputs": [],
   "source": [
    "# Load Python libraries\n",
    "import sklearn\n",
    "from sklearn.ensemble import RandomForestClassifier\n",
    "import xgboost as xgb\n",
    "import numpy as np\n",
    "import pandas as pd\n",
    "import seaborn as sns\n",
    "import matplotlib.pyplot as plt\n",
    "import matplotlib as mpl\n",
    "import warnings\n",
    "from sklearn.model_selection import KFold\n",
    "warnings.filterwarnings('ignore')\n",
    "plt.style.use('ggplot')"
   ]
  },
  {
   "cell_type": "code",
   "execution_count": 2,
   "metadata": {},
   "outputs": [
    {
     "data": {
      "text/html": [
       "<div>\n",
       "<style scoped>\n",
       "    .dataframe tbody tr th:only-of-type {\n",
       "        vertical-align: middle;\n",
       "    }\n",
       "\n",
       "    .dataframe tbody tr th {\n",
       "        vertical-align: top;\n",
       "    }\n",
       "\n",
       "    .dataframe thead th {\n",
       "        text-align: right;\n",
       "    }\n",
       "</style>\n",
       "<table border=\"1\" class=\"dataframe\">\n",
       "  <thead>\n",
       "    <tr style=\"text-align: right;\">\n",
       "      <th></th>\n",
       "      <th>msno</th>\n",
       "      <th>song_id</th>\n",
       "      <th>source_system_tab</th>\n",
       "      <th>source_screen_name</th>\n",
       "      <th>source_type</th>\n",
       "      <th>target</th>\n",
       "    </tr>\n",
       "  </thead>\n",
       "  <tbody>\n",
       "    <tr>\n",
       "      <th>5713056</th>\n",
       "      <td>QyDD3tWN4BIYqVAq9aQnHIeSLgFBbzJ3VAQ4nVgNTao=</td>\n",
       "      <td>A7xWQbpX8PCSanLLOALjd7Y3VR9FJwN7w9076bKxYeM=</td>\n",
       "      <td>search</td>\n",
       "      <td>Album more</td>\n",
       "      <td>album</td>\n",
       "      <td>1</td>\n",
       "    </tr>\n",
       "    <tr>\n",
       "      <th>5617934</th>\n",
       "      <td>nAiRf+UmYT7ZWIOUF6Ig3D0FDVIVpSgUb+H40Vg1eQU=</td>\n",
       "      <td>G+KKEB37qzVK7wp5Q9tpFLDYSCizqsgV5oLn1Tv9I5k=</td>\n",
       "      <td>radio</td>\n",
       "      <td>Radio</td>\n",
       "      <td>radio</td>\n",
       "      <td>0</td>\n",
       "    </tr>\n",
       "    <tr>\n",
       "      <th>3905302</th>\n",
       "      <td>WCyOVqEdenRlXvP2RhxOeEG9zIJRvBG4JQV9XGi+Q3Q=</td>\n",
       "      <td>GNGEf5DNWAiXoIQpyncNUfgLXwiI9I2PN5N2k+8MYlQ=</td>\n",
       "      <td>search</td>\n",
       "      <td>Search</td>\n",
       "      <td>song</td>\n",
       "      <td>0</td>\n",
       "    </tr>\n",
       "    <tr>\n",
       "      <th>6799963</th>\n",
       "      <td>2pTWUTfUCsvS8AuPoevLxZzQTNJhXOEVA8yWUNtztkQ=</td>\n",
       "      <td>6fQNksvUL+j7dNfRf683g7j4mJjgrhHS7cfaOYoTLn0=</td>\n",
       "      <td>my library</td>\n",
       "      <td>Local playlist more</td>\n",
       "      <td>local-library</td>\n",
       "      <td>1</td>\n",
       "    </tr>\n",
       "    <tr>\n",
       "      <th>5544586</th>\n",
       "      <td>5548oX5nLnqHXT2nlZfhzgVcaQZBmvZBUfsffYVKfAg=</td>\n",
       "      <td>BNXdQ7s6j5HpNb7m1Q7rJYoj3e1QBD4th/jMnY0eMEU=</td>\n",
       "      <td>radio</td>\n",
       "      <td>Radio</td>\n",
       "      <td>radio</td>\n",
       "      <td>0</td>\n",
       "    </tr>\n",
       "  </tbody>\n",
       "</table>\n",
       "</div>"
      ],
      "text/plain": [
       "                                                 msno  \\\n",
       "5713056  QyDD3tWN4BIYqVAq9aQnHIeSLgFBbzJ3VAQ4nVgNTao=   \n",
       "5617934  nAiRf+UmYT7ZWIOUF6Ig3D0FDVIVpSgUb+H40Vg1eQU=   \n",
       "3905302  WCyOVqEdenRlXvP2RhxOeEG9zIJRvBG4JQV9XGi+Q3Q=   \n",
       "6799963  2pTWUTfUCsvS8AuPoevLxZzQTNJhXOEVA8yWUNtztkQ=   \n",
       "5544586  5548oX5nLnqHXT2nlZfhzgVcaQZBmvZBUfsffYVKfAg=   \n",
       "\n",
       "                                              song_id source_system_tab  \\\n",
       "5713056  A7xWQbpX8PCSanLLOALjd7Y3VR9FJwN7w9076bKxYeM=            search   \n",
       "5617934  G+KKEB37qzVK7wp5Q9tpFLDYSCizqsgV5oLn1Tv9I5k=             radio   \n",
       "3905302  GNGEf5DNWAiXoIQpyncNUfgLXwiI9I2PN5N2k+8MYlQ=            search   \n",
       "6799963  6fQNksvUL+j7dNfRf683g7j4mJjgrhHS7cfaOYoTLn0=        my library   \n",
       "5544586  BNXdQ7s6j5HpNb7m1Q7rJYoj3e1QBD4th/jMnY0eMEU=             radio   \n",
       "\n",
       "          source_screen_name    source_type  target  \n",
       "5713056           Album more          album       1  \n",
       "5617934                Radio          radio       0  \n",
       "3905302               Search           song       0  \n",
       "6799963  Local playlist more  local-library       1  \n",
       "5544586                Radio          radio       0  "
      ]
     },
     "execution_count": 2,
     "metadata": {},
     "output_type": "execute_result"
    }
   ],
   "source": [
    "# Load data\n",
    "df = pd.read_csv('../kkbox/input/train.csv')\n",
    "\n",
    "# Take 10% sample of items\n",
    "df = df.sample(frac=0.1)\n",
    "df.head()"
   ]
  },
  {
   "cell_type": "markdown",
   "metadata": {},
   "source": [
    "* msno: user id\n",
    "* song_id: song id\n",
    "* sourcesystemtab: the name of the tab where the event was triggered. System tabs are used to categorize KKBOX mobile apps functions. For example, tab my library contains functions to manipulate the local storage, and tab search contains functions relating to search.\n",
    "* sourcescreenname: name of the layout a user sees.\n",
    "* source_type: an entry point a user first plays music on mobile apps. An entry point could be album, online-playlist, song .. etc.\n",
    "* target: this is the target variable. target=1 means there are recurring listening event(s) triggered within a month after the user’s very first observable listening event, target=0 otherwise ."
   ]
  },
  {
   "cell_type": "code",
   "execution_count": 3,
   "metadata": {},
   "outputs": [],
   "source": [
    "# Load songs data and join the data with df\n",
    "songs = pd.read_csv('../kkbox/input/songs.csv')\n",
    "df = pd.merge(df, songs, on='song_id', how='left')\n",
    "del songs\n",
    "\n",
    "# Load members data and join the data with df\n",
    "members = pd.read_csv('../kkbox/input/members.csv')\n",
    "df = pd.merge(df, members, on='msno', how='left')\n",
    "del members"
   ]
  },
  {
   "cell_type": "code",
   "execution_count": 4,
   "metadata": {},
   "outputs": [
    {
     "name": "stdout",
     "output_type": "stream",
     "text": [
      "<class 'pandas.core.frame.DataFrame'>\n",
      "Int64Index: 737742 entries, 0 to 737741\n",
      "Data columns (total 18 columns):\n",
      " #   Column                  Non-Null Count   Dtype  \n",
      "---  ------                  --------------   -----  \n",
      " 0   msno                    737742 non-null  object \n",
      " 1   song_id                 737742 non-null  object \n",
      " 2   source_system_tab       735276 non-null  object \n",
      " 3   source_screen_name      696237 non-null  object \n",
      " 4   source_type             735631 non-null  object \n",
      " 5   target                  737742 non-null  int64  \n",
      " 6   song_length             737728 non-null  float64\n",
      " 7   genre_ids               725892 non-null  object \n",
      " 8   artist_name             737728 non-null  object \n",
      " 9   composer                569982 non-null  object \n",
      " 10  lyricist                419415 non-null  object \n",
      " 11  language                737725 non-null  float64\n",
      " 12  city                    737742 non-null  int64  \n",
      " 13  bd                      737742 non-null  int64  \n",
      " 14  gender                  441021 non-null  object \n",
      " 15  registered_via          737742 non-null  int64  \n",
      " 16  registration_init_time  737742 non-null  int64  \n",
      " 17  expiration_date         737742 non-null  int64  \n",
      "dtypes: float64(2), int64(6), object(10)\n",
      "memory usage: 106.9+ MB\n"
     ]
    }
   ],
   "source": [
    "df.info()"
   ]
  },
  {
   "cell_type": "markdown",
   "metadata": {},
   "source": [
    "* bd: age. Note: this column has outlier values ranging from -7000 to 2015, please use your judgement.\n",
    "* registered_via: registration method\n",
    "* registration_init_time: format %Y%m%d\n",
    "* expiration_date: format %Y%m%d, taken as a snapshot at which the member.csv is extracted. Not representing the actual churn behavior.\n",
    "* genre_ids: genre category. Some songs have multiple genres and they are separated by |"
   ]
  },
  {
   "cell_type": "code",
   "execution_count": 5,
   "metadata": {},
   "outputs": [
    {
     "data": {
      "text/plain": [
       "msno                       0.000000\n",
       "song_id                    0.000000\n",
       "source_system_tab          0.334263\n",
       "source_screen_name         5.625951\n",
       "source_type                0.286143\n",
       "target                     0.000000\n",
       "song_length                0.001898\n",
       "genre_ids                  1.606253\n",
       "artist_name                0.001898\n",
       "composer                  22.739657\n",
       "lyricist                  43.148824\n",
       "language                   0.002304\n",
       "city                       0.000000\n",
       "bd                         0.000000\n",
       "gender                    40.220158\n",
       "registered_via             0.000000\n",
       "registration_init_time     0.000000\n",
       "expiration_date            0.000000\n",
       "dtype: float64"
      ]
     },
     "execution_count": 5,
     "metadata": {},
     "output_type": "execute_result"
    }
   ],
   "source": [
    "# Count Na in %\n",
    "df.isnull().sum()/df.isnull().count()*100"
   ]
  },
  {
   "cell_type": "code",
   "execution_count": 6,
   "metadata": {},
   "outputs": [],
   "source": [
    "# Replace NA\n",
    "for i in df.select_dtypes(include=['object']).columns:\n",
    "    df[i][df[i].isnull()] = 'unknown'\n",
    "df = df.fillna(value=0)"
   ]
  },
  {
   "cell_type": "code",
   "execution_count": 7,
   "metadata": {},
   "outputs": [],
   "source": [
    "# Create Dates\n",
    "\n",
    "# registration_init_time\n",
    "df.registration_init_time = pd.to_datetime(df.registration_init_time, format='%Y%m%d', errors='ignore')\n",
    "df['registration_init_time_year'] = df['registration_init_time'].dt.year\n",
    "df['registration_init_time_month'] = df['registration_init_time'].dt.month\n",
    "df['registration_init_time_day'] = df['registration_init_time'].dt.day\n",
    "\n",
    "# expiration_date\n",
    "df.expiration_date = pd.to_datetime(df.expiration_date,  format='%Y%m%d', errors='ignore')\n",
    "df['expiration_date_year'] = df['expiration_date'].dt.year\n",
    "df['expiration_date_month'] = df['expiration_date'].dt.month\n",
    "df['expiration_date_day'] = df['expiration_date'].dt.day"
   ]
  },
  {
   "cell_type": "code",
   "execution_count": 8,
   "metadata": {},
   "outputs": [
    {
     "data": {
      "text/html": [
       "<div>\n",
       "<style scoped>\n",
       "    .dataframe tbody tr th:only-of-type {\n",
       "        vertical-align: middle;\n",
       "    }\n",
       "\n",
       "    .dataframe tbody tr th {\n",
       "        vertical-align: top;\n",
       "    }\n",
       "\n",
       "    .dataframe thead th {\n",
       "        text-align: right;\n",
       "    }\n",
       "</style>\n",
       "<table border=\"1\" class=\"dataframe\">\n",
       "  <thead>\n",
       "    <tr style=\"text-align: right;\">\n",
       "      <th></th>\n",
       "      <th>msno</th>\n",
       "      <th>song_id</th>\n",
       "      <th>source_system_tab</th>\n",
       "      <th>source_screen_name</th>\n",
       "      <th>source_type</th>\n",
       "      <th>target</th>\n",
       "      <th>song_length</th>\n",
       "      <th>genre_ids</th>\n",
       "      <th>artist_name</th>\n",
       "      <th>composer</th>\n",
       "      <th>...</th>\n",
       "      <th>gender</th>\n",
       "      <th>registered_via</th>\n",
       "      <th>registration_init_time</th>\n",
       "      <th>expiration_date</th>\n",
       "      <th>registration_init_time_year</th>\n",
       "      <th>registration_init_time_month</th>\n",
       "      <th>registration_init_time_day</th>\n",
       "      <th>expiration_date_year</th>\n",
       "      <th>expiration_date_month</th>\n",
       "      <th>expiration_date_day</th>\n",
       "    </tr>\n",
       "  </thead>\n",
       "  <tbody>\n",
       "    <tr>\n",
       "      <th>0</th>\n",
       "      <td>QyDD3tWN4BIYqVAq9aQnHIeSLgFBbzJ3VAQ4nVgNTao=</td>\n",
       "      <td>A7xWQbpX8PCSanLLOALjd7Y3VR9FJwN7w9076bKxYeM=</td>\n",
       "      <td>search</td>\n",
       "      <td>Album more</td>\n",
       "      <td>album</td>\n",
       "      <td>1</td>\n",
       "      <td>211905.0</td>\n",
       "      <td>444|1259</td>\n",
       "      <td>BIGBANG</td>\n",
       "      <td>TEDDY| G-DRAGON</td>\n",
       "      <td>...</td>\n",
       "      <td>unknown</td>\n",
       "      <td>7</td>\n",
       "      <td>2011-06-29</td>\n",
       "      <td>2017-10-01</td>\n",
       "      <td>2011</td>\n",
       "      <td>6</td>\n",
       "      <td>29</td>\n",
       "      <td>2017</td>\n",
       "      <td>10</td>\n",
       "      <td>1</td>\n",
       "    </tr>\n",
       "    <tr>\n",
       "      <th>1</th>\n",
       "      <td>nAiRf+UmYT7ZWIOUF6Ig3D0FDVIVpSgUb+H40Vg1eQU=</td>\n",
       "      <td>G+KKEB37qzVK7wp5Q9tpFLDYSCizqsgV5oLn1Tv9I5k=</td>\n",
       "      <td>radio</td>\n",
       "      <td>Radio</td>\n",
       "      <td>radio</td>\n",
       "      <td>0</td>\n",
       "      <td>210930.0</td>\n",
       "      <td>139|125|109</td>\n",
       "      <td>Megan Dallas</td>\n",
       "      <td>Megan Dallas</td>\n",
       "      <td>...</td>\n",
       "      <td>male</td>\n",
       "      <td>9</td>\n",
       "      <td>2011-02-01</td>\n",
       "      <td>2017-10-06</td>\n",
       "      <td>2011</td>\n",
       "      <td>2</td>\n",
       "      <td>1</td>\n",
       "      <td>2017</td>\n",
       "      <td>10</td>\n",
       "      <td>6</td>\n",
       "    </tr>\n",
       "    <tr>\n",
       "      <th>2</th>\n",
       "      <td>WCyOVqEdenRlXvP2RhxOeEG9zIJRvBG4JQV9XGi+Q3Q=</td>\n",
       "      <td>GNGEf5DNWAiXoIQpyncNUfgLXwiI9I2PN5N2k+8MYlQ=</td>\n",
       "      <td>search</td>\n",
       "      <td>Search</td>\n",
       "      <td>song</td>\n",
       "      <td>0</td>\n",
       "      <td>211591.0</td>\n",
       "      <td>921</td>\n",
       "      <td>Various Artists</td>\n",
       "      <td>E. Schurman| T. VanEsch| N. Davidse| D. Smid| ...</td>\n",
       "      <td>...</td>\n",
       "      <td>male</td>\n",
       "      <td>9</td>\n",
       "      <td>2014-05-13</td>\n",
       "      <td>2017-10-06</td>\n",
       "      <td>2014</td>\n",
       "      <td>5</td>\n",
       "      <td>13</td>\n",
       "      <td>2017</td>\n",
       "      <td>10</td>\n",
       "      <td>6</td>\n",
       "    </tr>\n",
       "    <tr>\n",
       "      <th>3</th>\n",
       "      <td>2pTWUTfUCsvS8AuPoevLxZzQTNJhXOEVA8yWUNtztkQ=</td>\n",
       "      <td>6fQNksvUL+j7dNfRf683g7j4mJjgrhHS7cfaOYoTLn0=</td>\n",
       "      <td>my library</td>\n",
       "      <td>Local playlist more</td>\n",
       "      <td>local-library</td>\n",
       "      <td>1</td>\n",
       "      <td>302625.0</td>\n",
       "      <td>465</td>\n",
       "      <td>羅志祥 (Show Lo)</td>\n",
       "      <td>unknown</td>\n",
       "      <td>...</td>\n",
       "      <td>female</td>\n",
       "      <td>7</td>\n",
       "      <td>2011-12-16</td>\n",
       "      <td>2017-09-09</td>\n",
       "      <td>2011</td>\n",
       "      <td>12</td>\n",
       "      <td>16</td>\n",
       "      <td>2017</td>\n",
       "      <td>9</td>\n",
       "      <td>9</td>\n",
       "    </tr>\n",
       "    <tr>\n",
       "      <th>4</th>\n",
       "      <td>5548oX5nLnqHXT2nlZfhzgVcaQZBmvZBUfsffYVKfAg=</td>\n",
       "      <td>BNXdQ7s6j5HpNb7m1Q7rJYoj3e1QBD4th/jMnY0eMEU=</td>\n",
       "      <td>radio</td>\n",
       "      <td>Radio</td>\n",
       "      <td>radio</td>\n",
       "      <td>0</td>\n",
       "      <td>271905.0</td>\n",
       "      <td>2122</td>\n",
       "      <td>The Bird And The Bee</td>\n",
       "      <td>Greg Kurstin| Inara George</td>\n",
       "      <td>...</td>\n",
       "      <td>unknown</td>\n",
       "      <td>7</td>\n",
       "      <td>2011-10-31</td>\n",
       "      <td>2017-09-30</td>\n",
       "      <td>2011</td>\n",
       "      <td>10</td>\n",
       "      <td>31</td>\n",
       "      <td>2017</td>\n",
       "      <td>9</td>\n",
       "      <td>30</td>\n",
       "    </tr>\n",
       "  </tbody>\n",
       "</table>\n",
       "<p>5 rows × 24 columns</p>\n",
       "</div>"
      ],
      "text/plain": [
       "                                           msno  \\\n",
       "0  QyDD3tWN4BIYqVAq9aQnHIeSLgFBbzJ3VAQ4nVgNTao=   \n",
       "1  nAiRf+UmYT7ZWIOUF6Ig3D0FDVIVpSgUb+H40Vg1eQU=   \n",
       "2  WCyOVqEdenRlXvP2RhxOeEG9zIJRvBG4JQV9XGi+Q3Q=   \n",
       "3  2pTWUTfUCsvS8AuPoevLxZzQTNJhXOEVA8yWUNtztkQ=   \n",
       "4  5548oX5nLnqHXT2nlZfhzgVcaQZBmvZBUfsffYVKfAg=   \n",
       "\n",
       "                                        song_id source_system_tab  \\\n",
       "0  A7xWQbpX8PCSanLLOALjd7Y3VR9FJwN7w9076bKxYeM=            search   \n",
       "1  G+KKEB37qzVK7wp5Q9tpFLDYSCizqsgV5oLn1Tv9I5k=             radio   \n",
       "2  GNGEf5DNWAiXoIQpyncNUfgLXwiI9I2PN5N2k+8MYlQ=            search   \n",
       "3  6fQNksvUL+j7dNfRf683g7j4mJjgrhHS7cfaOYoTLn0=        my library   \n",
       "4  BNXdQ7s6j5HpNb7m1Q7rJYoj3e1QBD4th/jMnY0eMEU=             radio   \n",
       "\n",
       "    source_screen_name    source_type  target  song_length    genre_ids  \\\n",
       "0           Album more          album       1     211905.0     444|1259   \n",
       "1                Radio          radio       0     210930.0  139|125|109   \n",
       "2               Search           song       0     211591.0          921   \n",
       "3  Local playlist more  local-library       1     302625.0          465   \n",
       "4                Radio          radio       0     271905.0         2122   \n",
       "\n",
       "            artist_name                                           composer  \\\n",
       "0               BIGBANG                                    TEDDY| G-DRAGON   \n",
       "1          Megan Dallas                                       Megan Dallas   \n",
       "2       Various Artists  E. Schurman| T. VanEsch| N. Davidse| D. Smid| ...   \n",
       "3         羅志祥 (Show Lo)                                            unknown   \n",
       "4  The Bird And The Bee                         Greg Kurstin| Inara George   \n",
       "\n",
       "   ...   gender  registered_via  registration_init_time  expiration_date  \\\n",
       "0  ...  unknown               7              2011-06-29       2017-10-01   \n",
       "1  ...     male               9              2011-02-01       2017-10-06   \n",
       "2  ...     male               9              2014-05-13       2017-10-06   \n",
       "3  ...   female               7              2011-12-16       2017-09-09   \n",
       "4  ...  unknown               7              2011-10-31       2017-09-30   \n",
       "\n",
       "  registration_init_time_year  registration_init_time_month  \\\n",
       "0                        2011                             6   \n",
       "1                        2011                             2   \n",
       "2                        2014                             5   \n",
       "3                        2011                            12   \n",
       "4                        2011                            10   \n",
       "\n",
       "  registration_init_time_day expiration_date_year  expiration_date_month  \\\n",
       "0                         29                 2017                     10   \n",
       "1                          1                 2017                     10   \n",
       "2                         13                 2017                     10   \n",
       "3                         16                 2017                      9   \n",
       "4                         31                 2017                      9   \n",
       "\n",
       "   expiration_date_day  \n",
       "0                    1  \n",
       "1                    6  \n",
       "2                    6  \n",
       "3                    9  \n",
       "4                   30  \n",
       "\n",
       "[5 rows x 24 columns]"
      ]
     },
     "execution_count": 8,
     "metadata": {},
     "output_type": "execute_result"
    }
   ],
   "source": [
    "df.head()"
   ]
  },
  {
   "cell_type": "code",
   "execution_count": 9,
   "metadata": {},
   "outputs": [],
   "source": [
    "# Dates to categoty\n",
    "df['registration_init_time'] = df['registration_init_time'].astype('category')\n",
    "df['expiration_date'] = df['expiration_date'].astype('category')"
   ]
  },
  {
   "cell_type": "code",
   "execution_count": 10,
   "metadata": {},
   "outputs": [],
   "source": [
    "# Object data to category\n",
    "for col in df.select_dtypes(include=['object']).columns:\n",
    "    df[col] = df[col].astype('category')\n",
    "    \n",
    "# Encoding categorical features\n",
    "for col in df.select_dtypes(include=['category']).columns:\n",
    "    df[col] = df[col].cat.codes"
   ]
  },
  {
   "cell_type": "code",
   "execution_count": 11,
   "metadata": {},
   "outputs": [
    {
     "data": {
      "image/png": "[encoded data removed]",
      "text/plain": [
       "<Figure size 504x360 with 2 Axes>"
      ]
     },
     "metadata": {},
     "output_type": "display_data"
    }
   ],
   "source": [
    "# Сorrelation matrix\n",
    "plt.figure(figsize=[7,5])\n",
    "sns.heatmap(df.corr(), cmap=\"YlGnBu\")\n",
    "plt.show()"
   ]
  },
  {
   "cell_type": "code",
   "execution_count": null,
   "metadata": {},
   "outputs": [],
   "source": []
  },
  {
   "cell_type": "code",
   "execution_count": 12,
   "metadata": {},
   "outputs": [],
   "source": [
    "# Drop columns\n",
    "df = df.drop(['expiration_date', 'lyricist', 'gender'], 1)"
   ]
  },
  {
   "cell_type": "code",
   "execution_count": 13,
   "metadata": {},
   "outputs": [
    {
     "data": {
      "text/plain": [
       "RandomForestClassifier(max_depth=25, n_estimators=250)"
      ]
     },
     "execution_count": 13,
     "metadata": {},
     "output_type": "execute_result"
    }
   ],
   "source": [
    "# Model with the best estimator\n",
    "model = RandomForestClassifier(n_estimators=250, max_depth=25)\n",
    "model.fit(df[df.columns[df.columns != 'target']], df.target)"
   ]
  },
  {
   "cell_type": "code",
   "execution_count": 14,
   "metadata": {},
   "outputs": [],
   "source": [
    "df_plot = pd.DataFrame({'features': df.columns[df.columns != 'target'],\n",
    "                        'importances': model.feature_importances_})\n",
    "df_plot = df_plot.sort_values('importances', ascending=False)"
   ]
  },
  {
   "cell_type": "code",
   "execution_count": 15,
   "metadata": {},
   "outputs": [
    {
     "data": {
      "image/png": "[encoded data removed]",
      "text/plain": [
       "<Figure size 792x360 with 1 Axes>"
      ]
     },
     "metadata": {},
     "output_type": "display_data"
    }
   ],
   "source": [
    "plt.figure(figsize=[11,5])\n",
    "sns.barplot(x = df_plot.importances, y = df_plot.features)\n",
    "plt.title('Importances of Features Plot')\n",
    "plt.show()"
   ]
  },
  {
   "cell_type": "code",
   "execution_count": 16,
   "metadata": {},
   "outputs": [],
   "source": [
    "# Drop columns with importances < 0.04\n",
    "df = df.drop(df_plot.features[df_plot.importances < 0.04].tolist(), 1)"
   ]
  },
  {
   "cell_type": "code",
   "execution_count": 17,
   "metadata": {},
   "outputs": [
    {
     "data": {
      "text/plain": [
       "Index(['msno', 'song_id', 'source_system_tab', 'source_screen_name',\n",
       "       'source_type', 'target', 'song_length', 'artist_name', 'composer', 'bd',\n",
       "       'registration_init_time', 'registration_init_time_day',\n",
       "       'expiration_date_day'],\n",
       "      dtype='object')"
      ]
     },
     "execution_count": 17,
     "metadata": {},
     "output_type": "execute_result"
    }
   ],
   "source": [
    "# Selected columns\n",
    "df.columns"
   ]
  },
  {
   "cell_type": "code",
   "execution_count": 18,
   "metadata": {},
   "outputs": [],
   "source": [
    "# Train & Test split\n",
    "target = df.pop('target')\n",
    "train_data, test_data, train_labels, test_labels = sklearn.model_selection.train_test_split(df, target, test_size = 0.3)\n",
    "\n",
    "# Delete df\n",
    "del df"
   ]
  },
  {
   "cell_type": "code",
   "execution_count": 19,
   "metadata": {},
   "outputs": [
    {
     "data": {
      "text/plain": [
       "RandomForestClassifier(max_depth=25, n_estimators=250)"
      ]
     },
     "execution_count": 19,
     "metadata": {},
     "output_type": "execute_result"
    }
   ],
   "source": [
    "# Create model\n",
    "kf = KFold(n_splits = 3)\n",
    "model = RandomForestClassifier(n_estimators=250, max_depth=25)\n",
    "model.fit(train_data, train_labels)"
   ]
  },
  {
   "cell_type": "code",
   "execution_count": 20,
   "metadata": {},
   "outputs": [],
   "source": [
    "# Predicting\n",
    "predict_labels = model.predict(test_data)"
   ]
  },
  {
   "cell_type": "code",
   "execution_count": 21,
   "metadata": {},
   "outputs": [
    {
     "name": "stdout",
     "output_type": "stream",
     "text": [
      "              precision    recall  f1-score   support\n",
      "\n",
      "           0       0.67      0.62      0.64    109761\n",
      "           1       0.65      0.69      0.67    111562\n",
      "\n",
      "    accuracy                           0.66    221323\n",
      "   macro avg       0.66      0.66      0.66    221323\n",
      "weighted avg       0.66      0.66      0.66    221323\n",
      "\n"
     ]
    }
   ],
   "source": [
    "print(sklearn.metrics.classification_report(test_labels, predict_labels))"
   ]
  },
  {
   "cell_type": "code",
   "execution_count": null,
   "metadata": {},
   "outputs": [],
   "source": []
  }
 ],
 "metadata": {
  "kernelspec": {
   "display_name": "Python 3",
   "language": "python",
   "name": "python3"
  },
  "language_info": {
   "codemirror_mode": {
    "name": "ipython",
    "version": 3
   },
   "file_extension": ".py",
   "mimetype": "text/x-python",
   "name": "python",
   "nbconvert_exporter": "python",
   "pygments_lexer": "ipython3",
   "version": "3.8.5"
  }
 },
 "nbformat": 4,
 "nbformat_minor": 4
}
