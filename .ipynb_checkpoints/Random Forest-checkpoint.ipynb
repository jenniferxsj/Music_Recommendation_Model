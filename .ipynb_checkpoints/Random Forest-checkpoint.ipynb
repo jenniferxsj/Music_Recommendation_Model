{
 "cells": [
  {
   "cell_type": "code",
   "execution_count": 23,
   "metadata": {},
   "outputs": [],
   "source": [
    "# Load Python libraries\n",
    "import sklearn\n",
    "from sklearn.ensemble import RandomForestClassifier\n",
    "import xgboost as xgb\n",
    "import numpy as np\n",
    "import pandas as pd\n",
    "import seaborn as sns\n",
    "import matplotlib.pyplot as plt\n",
    "import matplotlib as mpl\n",
    "import warnings\n",
    "warnings.filterwarnings('ignore')\n",
    "plt.style.use('ggplot')"
   ]
  },
  {
   "cell_type": "code",
   "execution_count": 39,
   "metadata": {},
   "outputs": [
    {
     "data": {
      "text/html": [
       "<div>\n",
       "<style scoped>\n",
       "    .dataframe tbody tr th:only-of-type {\n",
       "        vertical-align: middle;\n",
       "    }\n",
       "\n",
       "    .dataframe tbody tr th {\n",
       "        vertical-align: top;\n",
       "    }\n",
       "\n",
       "    .dataframe thead th {\n",
       "        text-align: right;\n",
       "    }\n",
       "</style>\n",
       "<table border=\"1\" class=\"dataframe\">\n",
       "  <thead>\n",
       "    <tr style=\"text-align: right;\">\n",
       "      <th></th>\n",
       "      <th>msno</th>\n",
       "      <th>song_id</th>\n",
       "      <th>source_system_tab</th>\n",
       "      <th>source_screen_name</th>\n",
       "      <th>source_type</th>\n",
       "      <th>target</th>\n",
       "    </tr>\n",
       "  </thead>\n",
       "  <tbody>\n",
       "    <tr>\n",
       "      <th>5997458</th>\n",
       "      <td>UFcltK3u/LmkJq5NM9GS/tFHLtFp9qRXO8jxore1YHE=</td>\n",
       "      <td>nBh/12CeQ3B0/CKJw/TrYHJYERGXrfixEOyd3PWBD+k=</td>\n",
       "      <td>listen with</td>\n",
       "      <td>Others profile more</td>\n",
       "      <td>listen-with</td>\n",
       "      <td>0</td>\n",
       "    </tr>\n",
       "    <tr>\n",
       "      <th>7105237</th>\n",
       "      <td>l8OntXEd6Ivu2dvfiRhVKjYRY05rWKcekGyBAkVxcVw=</td>\n",
       "      <td>gnegcSj6noIAKWWxM29AvIIadg6p+hn0Iq3BtAVJORM=</td>\n",
       "      <td>search</td>\n",
       "      <td>Artist more</td>\n",
       "      <td>top-hits-for-artist</td>\n",
       "      <td>0</td>\n",
       "    </tr>\n",
       "    <tr>\n",
       "      <th>24524</th>\n",
       "      <td>zx51OvMA6lJ+iNxD6lZnUppO8ZKHhuKBIAgGXAObgqQ=</td>\n",
       "      <td>WRuHbl8CJbAuzUb4f/88Ly6IXif+IVVWolkp33Nm8wI=</td>\n",
       "      <td>my library</td>\n",
       "      <td>Local playlist more</td>\n",
       "      <td>local-playlist</td>\n",
       "      <td>1</td>\n",
       "    </tr>\n",
       "    <tr>\n",
       "      <th>3693227</th>\n",
       "      <td>dTwJUTcR1/6J4T3Lj+QwLKsswsKpQ0pdTgmCP6mvyxQ=</td>\n",
       "      <td>FV7I/cXgCKXS0d/KsKJ8IMs93HY/psfcwwHqlPPVkBU=</td>\n",
       "      <td>my library</td>\n",
       "      <td>Local playlist more</td>\n",
       "      <td>local-playlist</td>\n",
       "      <td>1</td>\n",
       "    </tr>\n",
       "    <tr>\n",
       "      <th>5695985</th>\n",
       "      <td>2Wvn5PUO9n1VPW6ByVKkJZF1T+J5V2s8k2I64mpbvCg=</td>\n",
       "      <td>Xpjwi8UAE2Vv9PZ6cZnhc58MCtl3cKZEO1sdAkqJ4mo=</td>\n",
       "      <td>discover</td>\n",
       "      <td>Search Trends</td>\n",
       "      <td>song</td>\n",
       "      <td>1</td>\n",
       "    </tr>\n",
       "  </tbody>\n",
       "</table>\n",
       "</div>"
      ],
      "text/plain": [
       "                                                 msno  \\\n",
       "5997458  UFcltK3u/LmkJq5NM9GS/tFHLtFp9qRXO8jxore1YHE=   \n",
       "7105237  l8OntXEd6Ivu2dvfiRhVKjYRY05rWKcekGyBAkVxcVw=   \n",
       "24524    zx51OvMA6lJ+iNxD6lZnUppO8ZKHhuKBIAgGXAObgqQ=   \n",
       "3693227  dTwJUTcR1/6J4T3Lj+QwLKsswsKpQ0pdTgmCP6mvyxQ=   \n",
       "5695985  2Wvn5PUO9n1VPW6ByVKkJZF1T+J5V2s8k2I64mpbvCg=   \n",
       "\n",
       "                                              song_id source_system_tab  \\\n",
       "5997458  nBh/12CeQ3B0/CKJw/TrYHJYERGXrfixEOyd3PWBD+k=       listen with   \n",
       "7105237  gnegcSj6noIAKWWxM29AvIIadg6p+hn0Iq3BtAVJORM=            search   \n",
       "24524    WRuHbl8CJbAuzUb4f/88Ly6IXif+IVVWolkp33Nm8wI=        my library   \n",
       "3693227  FV7I/cXgCKXS0d/KsKJ8IMs93HY/psfcwwHqlPPVkBU=        my library   \n",
       "5695985  Xpjwi8UAE2Vv9PZ6cZnhc58MCtl3cKZEO1sdAkqJ4mo=          discover   \n",
       "\n",
       "          source_screen_name          source_type  target  \n",
       "5997458  Others profile more          listen-with       0  \n",
       "7105237          Artist more  top-hits-for-artist       0  \n",
       "24524    Local playlist more       local-playlist       1  \n",
       "3693227  Local playlist more       local-playlist       1  \n",
       "5695985        Search Trends                 song       1  "
      ]
     },
     "execution_count": 39,
     "metadata": {},
     "output_type": "execute_result"
    }
   ],
   "source": [
    "# Load data\n",
    "df = pd.read_csv('./kkbox/input/train.csv')\n",
    "\n",
    "# Take 3% sample of items\n",
    "df = df.sample(frac=0.03)\n",
    "df.head()"
   ]
  },
  {
   "cell_type": "markdown",
   "metadata": {},
   "source": [
    "* msno: user id\n",
    "* song_id: song id\n",
    "* sourcesystemtab: the name of the tab where the event was triggered. System tabs are used to categorize KKBOX mobile apps functions. For example, tab my library contains functions to manipulate the local storage, and tab search contains functions relating to search.\n",
    "* sourcescreenname: name of the layout a user sees.\n",
    "* source_type: an entry point a user first plays music on mobile apps. An entry point could be album, online-playlist, song .. etc.\n",
    "* target: this is the target variable. target=1 means there are recurring listening event(s) triggered within a month after the user’s very first observable listening event, target=0 otherwise ."
   ]
  },
  {
   "cell_type": "code",
   "execution_count": 25,
   "metadata": {},
   "outputs": [],
   "source": [
    "# Load songs data and join the data with df\n",
    "songs = pd.read_csv('./kkbox/input/songs.csv')\n",
    "df = pd.merge(df, songs, on='song_id', how='left')\n",
    "del songs\n",
    "\n",
    "# Load members data and join the data with df\n",
    "members = pd.read_csv('./kkbox/input/members.csv')\n",
    "df = pd.merge(df, members, on='msno', how='left')\n",
    "del members"
   ]
  },
  {
   "cell_type": "code",
   "execution_count": 26,
   "metadata": {},
   "outputs": [
    {
     "name": "stdout",
     "output_type": "stream",
     "text": [
      "<class 'pandas.core.frame.DataFrame'>\n",
      "Int64Index: 221323 entries, 0 to 221322\n",
      "Data columns (total 18 columns):\n",
      " #   Column                  Non-Null Count   Dtype  \n",
      "---  ------                  --------------   -----  \n",
      " 0   msno                    221323 non-null  object \n",
      " 1   song_id                 221323 non-null  object \n",
      " 2   source_system_tab       220584 non-null  object \n",
      " 3   source_screen_name      208834 non-null  object \n",
      " 4   source_type             220697 non-null  object \n",
      " 5   target                  221323 non-null  int64  \n",
      " 6   song_length             221317 non-null  float64\n",
      " 7   genre_ids               217710 non-null  object \n",
      " 8   artist_name             221317 non-null  object \n",
      " 9   composer                171314 non-null  object \n",
      " 10  lyricist                125963 non-null  object \n",
      " 11  language                221317 non-null  float64\n",
      " 12  city                    221323 non-null  int64  \n",
      " 13  bd                      221323 non-null  int64  \n",
      " 14  gender                  132449 non-null  object \n",
      " 15  registered_via          221323 non-null  int64  \n",
      " 16  registration_init_time  221323 non-null  int64  \n",
      " 17  expiration_date         221323 non-null  int64  \n",
      "dtypes: float64(2), int64(6), object(10)\n",
      "memory usage: 32.1+ MB\n"
     ]
    }
   ],
   "source": [
    "df.info()"
   ]
  },
  {
   "cell_type": "markdown",
   "metadata": {},
   "source": [
    "* bd: age. Note: this column has outlier values ranging from -7000 to 2015, please use your judgement.\n",
    "* registered_via: registration method\n",
    "* registration_init_time: format %Y%m%d\n",
    "* expiration_date: format %Y%m%d, taken as a snapshot at which the member.csv is extracted. Not representing the actual churn behavior.\n",
    "* genre_ids: genre category. Some songs have multiple genres and they are separated by |"
   ]
  },
  {
   "cell_type": "code",
   "execution_count": 27,
   "metadata": {},
   "outputs": [
    {
     "data": {
      "text/plain": [
       "msno                       0.000000\n",
       "song_id                    0.000000\n",
       "source_system_tab          0.333901\n",
       "source_screen_name         5.642884\n",
       "source_type                0.282845\n",
       "target                     0.000000\n",
       "song_length                0.002711\n",
       "genre_ids                  1.632456\n",
       "artist_name                0.002711\n",
       "composer                  22.595483\n",
       "lyricist                  43.086349\n",
       "language                   0.002711\n",
       "city                       0.000000\n",
       "bd                         0.000000\n",
       "gender                    40.155790\n",
       "registered_via             0.000000\n",
       "registration_init_time     0.000000\n",
       "expiration_date            0.000000\n",
       "dtype: float64"
      ]
     },
     "execution_count": 27,
     "metadata": {},
     "output_type": "execute_result"
    }
   ],
   "source": [
    "# Count Na in %\n",
    "df.isnull().sum()/df.isnull().count()*100"
   ]
  },
  {
   "cell_type": "code",
   "execution_count": 28,
   "metadata": {},
   "outputs": [],
   "source": [
    "# Replace NA\n",
    "for i in df.select_dtypes(include=['object']).columns:\n",
    "    df[i][df[i].isnull()] = 'unknown'\n",
    "df = df.fillna(value=0)"
   ]
  },
  {
   "cell_type": "code",
   "execution_count": 29,
   "metadata": {},
   "outputs": [],
   "source": [
    "# Create Dates\n",
    "\n",
    "# registration_init_time\n",
    "df.registration_init_time = pd.to_datetime(df.registration_init_time, format='%Y%m%d', errors='ignore')\n",
    "df['registration_init_time_year'] = df['registration_init_time'].dt.year\n",
    "df['registration_init_time_month'] = df['registration_init_time'].dt.month\n",
    "df['registration_init_time_day'] = df['registration_init_time'].dt.day\n",
    "\n",
    "# expiration_date\n",
    "df.expiration_date = pd.to_datetime(df.expiration_date,  format='%Y%m%d', errors='ignore')\n",
    "df['expiration_date_year'] = df['expiration_date'].dt.year\n",
    "df['expiration_date_month'] = df['expiration_date'].dt.month\n",
    "df['expiration_date_day'] = df['expiration_date'].dt.day"
   ]
  },
  {
   "cell_type": "code",
   "execution_count": 30,
   "metadata": {},
   "outputs": [
    {
     "data": {
      "text/html": [
       "<div>\n",
       "<style scoped>\n",
       "    .dataframe tbody tr th:only-of-type {\n",
       "        vertical-align: middle;\n",
       "    }\n",
       "\n",
       "    .dataframe tbody tr th {\n",
       "        vertical-align: top;\n",
       "    }\n",
       "\n",
       "    .dataframe thead th {\n",
       "        text-align: right;\n",
       "    }\n",
       "</style>\n",
       "<table border=\"1\" class=\"dataframe\">\n",
       "  <thead>\n",
       "    <tr style=\"text-align: right;\">\n",
       "      <th></th>\n",
       "      <th>msno</th>\n",
       "      <th>song_id</th>\n",
       "      <th>source_system_tab</th>\n",
       "      <th>source_screen_name</th>\n",
       "      <th>source_type</th>\n",
       "      <th>target</th>\n",
       "      <th>song_length</th>\n",
       "      <th>genre_ids</th>\n",
       "      <th>artist_name</th>\n",
       "      <th>composer</th>\n",
       "      <th>...</th>\n",
       "      <th>gender</th>\n",
       "      <th>registered_via</th>\n",
       "      <th>registration_init_time</th>\n",
       "      <th>expiration_date</th>\n",
       "      <th>registration_init_time_year</th>\n",
       "      <th>registration_init_time_month</th>\n",
       "      <th>registration_init_time_day</th>\n",
       "      <th>expiration_date_year</th>\n",
       "      <th>expiration_date_month</th>\n",
       "      <th>expiration_date_day</th>\n",
       "    </tr>\n",
       "  </thead>\n",
       "  <tbody>\n",
       "    <tr>\n",
       "      <th>0</th>\n",
       "      <td>zIVDNYrxuU1XALBSVZtZgwSWFK3ds3Ac9Egoy2h4304=</td>\n",
       "      <td>OrYdxT0jW/+UUMI076UtHPSGVO4/hnKAWuYXQ+45Kj8=</td>\n",
       "      <td>my library</td>\n",
       "      <td>Local playlist more</td>\n",
       "      <td>local-library</td>\n",
       "      <td>1</td>\n",
       "      <td>311797.0</td>\n",
       "      <td>465</td>\n",
       "      <td>蕭亞軒 (Elva Hsiao)</td>\n",
       "      <td>unknown</td>\n",
       "      <td>...</td>\n",
       "      <td>female</td>\n",
       "      <td>3</td>\n",
       "      <td>2015-05-08</td>\n",
       "      <td>2017-09-16</td>\n",
       "      <td>2015</td>\n",
       "      <td>5</td>\n",
       "      <td>8</td>\n",
       "      <td>2017</td>\n",
       "      <td>9</td>\n",
       "      <td>16</td>\n",
       "    </tr>\n",
       "    <tr>\n",
       "      <th>1</th>\n",
       "      <td>o/JiK991zGFPWZUpffnWADsNFopLfdSG0rwFsUBkUpk=</td>\n",
       "      <td>rs6vr0QtClmnuXvsrzW7wM8ciWbPlN/5ObPu5N6LLRQ=</td>\n",
       "      <td>my library</td>\n",
       "      <td>Local playlist more</td>\n",
       "      <td>local-library</td>\n",
       "      <td>1</td>\n",
       "      <td>194652.0</td>\n",
       "      <td>465</td>\n",
       "      <td>PSY</td>\n",
       "      <td>unknown</td>\n",
       "      <td>...</td>\n",
       "      <td>female</td>\n",
       "      <td>3</td>\n",
       "      <td>2012-06-10</td>\n",
       "      <td>2017-09-25</td>\n",
       "      <td>2012</td>\n",
       "      <td>6</td>\n",
       "      <td>10</td>\n",
       "      <td>2017</td>\n",
       "      <td>9</td>\n",
       "      <td>25</td>\n",
       "    </tr>\n",
       "    <tr>\n",
       "      <th>2</th>\n",
       "      <td>Kup6VNdSWBeGmKcPDcwHFrAQeA7yTaLLwTh0PJxTZUg=</td>\n",
       "      <td>FAGiY4iJYofxEiSXK5/KRFQUsAC8tGxPIcYweJ413I0=</td>\n",
       "      <td>discover</td>\n",
       "      <td>Online playlist more</td>\n",
       "      <td>online-playlist</td>\n",
       "      <td>0</td>\n",
       "      <td>230086.0</td>\n",
       "      <td>444</td>\n",
       "      <td>SANDEUL</td>\n",
       "      <td>unknown</td>\n",
       "      <td>...</td>\n",
       "      <td>unknown</td>\n",
       "      <td>7</td>\n",
       "      <td>2015-09-02</td>\n",
       "      <td>2017-10-02</td>\n",
       "      <td>2015</td>\n",
       "      <td>9</td>\n",
       "      <td>2</td>\n",
       "      <td>2017</td>\n",
       "      <td>10</td>\n",
       "      <td>2</td>\n",
       "    </tr>\n",
       "    <tr>\n",
       "      <th>3</th>\n",
       "      <td>6o0lI2nTD7bDTr3jnTXo0twNqommX9h18GLJoS41PuI=</td>\n",
       "      <td>8cKv2f3LBMarqBNHSSDYXd9fzc05giVlcu/Vj3GjFFM=</td>\n",
       "      <td>listen with</td>\n",
       "      <td>Online playlist more</td>\n",
       "      <td>online-playlist</td>\n",
       "      <td>1</td>\n",
       "      <td>196440.0</td>\n",
       "      <td>458</td>\n",
       "      <td>A-Lin</td>\n",
       "      <td>宋唯農/曹俊鴻</td>\n",
       "      <td>...</td>\n",
       "      <td>unknown</td>\n",
       "      <td>7</td>\n",
       "      <td>2011-06-14</td>\n",
       "      <td>2017-08-01</td>\n",
       "      <td>2011</td>\n",
       "      <td>6</td>\n",
       "      <td>14</td>\n",
       "      <td>2017</td>\n",
       "      <td>8</td>\n",
       "      <td>1</td>\n",
       "    </tr>\n",
       "    <tr>\n",
       "      <th>4</th>\n",
       "      <td>Xa3bbIsP+DO7sQdTiljlnXoiRJl6JXU5xDe9y3HG6Lc=</td>\n",
       "      <td>rjkuGJ4yhxfmN/u5Y04zT85foSCtu9TSH4DopXHW4xw=</td>\n",
       "      <td>radio</td>\n",
       "      <td>Radio</td>\n",
       "      <td>radio</td>\n",
       "      <td>0</td>\n",
       "      <td>266379.0</td>\n",
       "      <td>465</td>\n",
       "      <td>Simon Webbe</td>\n",
       "      <td>Simon Webbe| Tim Woodcock| Matt Prime</td>\n",
       "      <td>...</td>\n",
       "      <td>male</td>\n",
       "      <td>9</td>\n",
       "      <td>2015-07-05</td>\n",
       "      <td>2018-01-11</td>\n",
       "      <td>2015</td>\n",
       "      <td>7</td>\n",
       "      <td>5</td>\n",
       "      <td>2018</td>\n",
       "      <td>1</td>\n",
       "      <td>11</td>\n",
       "    </tr>\n",
       "  </tbody>\n",
       "</table>\n",
       "<p>5 rows × 24 columns</p>\n",
       "</div>"
      ],
      "text/plain": [
       "                                           msno  \\\n",
       "0  zIVDNYrxuU1XALBSVZtZgwSWFK3ds3Ac9Egoy2h4304=   \n",
       "1  o/JiK991zGFPWZUpffnWADsNFopLfdSG0rwFsUBkUpk=   \n",
       "2  Kup6VNdSWBeGmKcPDcwHFrAQeA7yTaLLwTh0PJxTZUg=   \n",
       "3  6o0lI2nTD7bDTr3jnTXo0twNqommX9h18GLJoS41PuI=   \n",
       "4  Xa3bbIsP+DO7sQdTiljlnXoiRJl6JXU5xDe9y3HG6Lc=   \n",
       "\n",
       "                                        song_id source_system_tab  \\\n",
       "0  OrYdxT0jW/+UUMI076UtHPSGVO4/hnKAWuYXQ+45Kj8=        my library   \n",
       "1  rs6vr0QtClmnuXvsrzW7wM8ciWbPlN/5ObPu5N6LLRQ=        my library   \n",
       "2  FAGiY4iJYofxEiSXK5/KRFQUsAC8tGxPIcYweJ413I0=          discover   \n",
       "3  8cKv2f3LBMarqBNHSSDYXd9fzc05giVlcu/Vj3GjFFM=       listen with   \n",
       "4  rjkuGJ4yhxfmN/u5Y04zT85foSCtu9TSH4DopXHW4xw=             radio   \n",
       "\n",
       "     source_screen_name      source_type  target  song_length genre_ids  \\\n",
       "0   Local playlist more    local-library       1     311797.0       465   \n",
       "1   Local playlist more    local-library       1     194652.0       465   \n",
       "2  Online playlist more  online-playlist       0     230086.0       444   \n",
       "3  Online playlist more  online-playlist       1     196440.0       458   \n",
       "4                 Radio            radio       0     266379.0       465   \n",
       "\n",
       "        artist_name                               composer  ...   gender  \\\n",
       "0  蕭亞軒 (Elva Hsiao)                                unknown  ...   female   \n",
       "1               PSY                                unknown  ...   female   \n",
       "2           SANDEUL                                unknown  ...  unknown   \n",
       "3             A-Lin                                宋唯農/曹俊鴻  ...  unknown   \n",
       "4       Simon Webbe  Simon Webbe| Tim Woodcock| Matt Prime  ...     male   \n",
       "\n",
       "   registered_via  registration_init_time  expiration_date  \\\n",
       "0               3              2015-05-08       2017-09-16   \n",
       "1               3              2012-06-10       2017-09-25   \n",
       "2               7              2015-09-02       2017-10-02   \n",
       "3               7              2011-06-14       2017-08-01   \n",
       "4               9              2015-07-05       2018-01-11   \n",
       "\n",
       "  registration_init_time_year  registration_init_time_month  \\\n",
       "0                        2015                             5   \n",
       "1                        2012                             6   \n",
       "2                        2015                             9   \n",
       "3                        2011                             6   \n",
       "4                        2015                             7   \n",
       "\n",
       "  registration_init_time_day expiration_date_year  expiration_date_month  \\\n",
       "0                          8                 2017                      9   \n",
       "1                         10                 2017                      9   \n",
       "2                          2                 2017                     10   \n",
       "3                         14                 2017                      8   \n",
       "4                          5                 2018                      1   \n",
       "\n",
       "   expiration_date_day  \n",
       "0                   16  \n",
       "1                   25  \n",
       "2                    2  \n",
       "3                    1  \n",
       "4                   11  \n",
       "\n",
       "[5 rows x 24 columns]"
      ]
     },
     "execution_count": 30,
     "metadata": {},
     "output_type": "execute_result"
    }
   ],
   "source": [
    "df.head()"
   ]
  },
  {
   "cell_type": "code",
   "execution_count": 31,
   "metadata": {},
   "outputs": [],
   "source": [
    "# Dates to categoty\n",
    "df['registration_init_time'] = df['registration_init_time'].astype('category')\n",
    "df['expiration_date'] = df['expiration_date'].astype('category')"
   ]
  },
  {
   "cell_type": "code",
   "execution_count": 32,
   "metadata": {},
   "outputs": [],
   "source": [
    "# Object data to category\n",
    "for col in df.select_dtypes(include=['object']).columns:\n",
    "    df[col] = df[col].astype('category')\n",
    "    \n",
    "# Encoding categorical features\n",
    "for col in df.select_dtypes(include=['category']).columns:\n",
    "    df[col] = df[col].cat.codes"
   ]
  },
  {
   "cell_type": "code",
   "execution_count": 37,
   "metadata": {},
   "outputs": [
    {
     "data": {
      "image/png": "[encoded data removed]",
      "text/plain": [
       "<Figure size 504x360 with 2 Axes>"
      ]
     },
     "metadata": {},
     "output_type": "display_data"
    }
   ],
   "source": [
    "# Сorrelation matrix\n",
    "plt.figure(figsize=[7,5])\n",
    "sns.heatmap(df.corr(), cmap=\"YlGnBu\")\n",
    "plt.show()"
   ]
  },
  {
   "cell_type": "code",
   "execution_count": null,
   "metadata": {},
   "outputs": [],
   "source": []
  },
  {
   "cell_type": "code",
   "execution_count": 12,
   "metadata": {},
   "outputs": [],
   "source": [
    "# Drop columns\n",
    "df = df.drop(['expiration_date', 'lyricist', 'gender'], 1)"
   ]
  },
  {
   "cell_type": "code",
   "execution_count": 13,
   "metadata": {},
   "outputs": [
    {
     "data": {
      "text/plain": [
       "RandomForestClassifier(max_depth=25, n_estimators=250)"
      ]
     },
     "execution_count": 13,
     "metadata": {},
     "output_type": "execute_result"
    }
   ],
   "source": [
    "# Model with the best estimator\n",
    "model = RandomForestClassifier(n_estimators=250, max_depth=25)\n",
    "model.fit(df[df.columns[df.columns != 'target']], df.target)"
   ]
  },
  {
   "cell_type": "code",
   "execution_count": 14,
   "metadata": {},
   "outputs": [],
   "source": [
    "df_plot = pd.DataFrame({'features': df.columns[df.columns != 'target'],\n",
    "                        'importances': model.feature_importances_})\n",
    "df_plot = df_plot.sort_values('importances', ascending=False)"
   ]
  },
  {
   "cell_type": "code",
   "execution_count": 15,
   "metadata": {},
   "outputs": [
    {
     "data": {
      "image/png": "[encoded data removed]",
      "text/plain": [
       "<Figure size 792x360 with 1 Axes>"
      ]
     },
     "metadata": {},
     "output_type": "display_data"
    }
   ],
   "source": [
    "plt.figure(figsize=[11,5])\n",
    "sns.barplot(x = df_plot.importances, y = df_plot.features)\n",
    "plt.title('Importances of Features Plot')\n",
    "plt.show()"
   ]
  },
  {
   "cell_type": "code",
   "execution_count": 16,
   "metadata": {},
   "outputs": [],
   "source": [
    "# Drop columns with importances < 0.04\n",
    "df = df.drop(df_plot.features[df_plot.importances < 0.04].tolist(), 1)"
   ]
  },
  {
   "cell_type": "code",
   "execution_count": 17,
   "metadata": {},
   "outputs": [
    {
     "data": {
      "text/plain": [
       "Index(['msno', 'song_id', 'source_screen_name', 'source_type', 'target',\n",
       "       'song_length', 'artist_name', 'composer', 'bd',\n",
       "       'registration_init_time', 'registration_init_time_month',\n",
       "       'registration_init_time_day', 'expiration_date_day'],\n",
       "      dtype='object')"
      ]
     },
     "execution_count": 17,
     "metadata": {},
     "output_type": "execute_result"
    }
   ],
   "source": [
    "# Selected columns\n",
    "df.columns"
   ]
  },
  {
   "cell_type": "code",
   "execution_count": 18,
   "metadata": {},
   "outputs": [],
   "source": [
    "# Train & Test split\n",
    "target = df.pop('target')\n",
    "train_data, test_data, train_labels, test_labels = sklearn.model_selection.train_test_split(df, target, test_size = 0.3)\n",
    "\n",
    "# Delete df\n",
    "del df"
   ]
  },
  {
   "cell_type": "code",
   "execution_count": 19,
   "metadata": {},
   "outputs": [
    {
     "data": {
      "text/plain": [
       "XGBClassifier(base_score=0.5, booster='gbtree', colsample_bylevel=1,\n",
       "              colsample_bynode=1, colsample_bytree=1, gamma=0, gpu_id=-1,\n",
       "              importance_type='gain', interaction_constraints='',\n",
       "              learning_rate=0.1, max_delta_step=0, max_depth=15,\n",
       "              min_child_weight=5, missing=nan, monotone_constraints='()',\n",
       "              n_estimators=250, n_jobs=0, num_parallel_tree=1, random_state=0,\n",
       "              reg_alpha=0, reg_lambda=1, scale_pos_weight=1, subsample=1,\n",
       "              tree_method='exact', validate_parameters=1, verbosity=None)"
      ]
     },
     "execution_count": 19,
     "metadata": {},
     "output_type": "execute_result"
    }
   ],
   "source": [
    "# Create model\n",
    "model = xgb.XGBClassifier(learning_rate=0.1, max_depth=15, min_child_weight=5, n_estimators=250)\n",
    "model.fit(train_data, train_labels)"
   ]
  },
  {
   "cell_type": "code",
   "execution_count": 20,
   "metadata": {},
   "outputs": [],
   "source": [
    "# Predicting\n",
    "predict_labels = model.predict(test_data)"
   ]
  },
  {
   "cell_type": "code",
   "execution_count": 21,
   "metadata": {},
   "outputs": [
    {
     "name": "stdout",
     "output_type": "stream",
     "text": [
      "              precision    recall  f1-score   support\n",
      "\n",
      "           0       0.65      0.62      0.63     32965\n",
      "           1       0.64      0.67      0.65     33432\n",
      "\n",
      "    accuracy                           0.64     66397\n",
      "   macro avg       0.64      0.64      0.64     66397\n",
      "weighted avg       0.64      0.64      0.64     66397\n",
      "\n"
     ]
    }
   ],
   "source": [
    "print(sklearn.metrics.classification_report(test_labels, predict_labels))"
   ]
  },
  {
   "cell_type": "code",
   "execution_count": null,
   "metadata": {},
   "outputs": [],
   "source": []
  }
 ],
 "metadata": {
  "kernelspec": {
   "display_name": "Python 3",
   "language": "python",
   "name": "python3"
  },
  "language_info": {
   "codemirror_mode": {
    "name": "ipython",
    "version": 3
   },
   "file_extension": ".py",
   "mimetype": "text/x-python",
   "name": "python",
   "nbconvert_exporter": "python",
   "pygments_lexer": "ipython3",
   "version": "3.8.5"
  }
 },
 "nbformat": 4,
 "nbformat_minor": 4
}
